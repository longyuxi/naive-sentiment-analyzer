{
 "metadata": {
  "language_info": {
   "codemirror_mode": {
    "name": "ipython",
    "version": 3
   },
   "file_extension": ".py",
   "mimetype": "text/x-python",
   "name": "python",
   "nbconvert_exporter": "python",
   "pygments_lexer": "ipython3",
   "version": "3.7.3-final"
  },
  "orig_nbformat": 2,
  "kernelspec": {
   "name": "python3",
   "display_name": "Python 3"
  }
 },
 "nbformat": 4,
 "nbformat_minor": 2,
 "cells": [
  {
   "source": [
    "Procedures for executing this notebook:\n",
    "\n",
    "1. Execute code block 0\n",
    "2. If you want to use a text already present in the `data/` folder, modify code block 1, and run code blocks 1, 3, 4\n",
    "3. If you want to upload your own text, upload your text through the file explorer panel on the left, modify code block 1, and run code blocks 1, 2, 3, 4\n",
    "4. The other code blocks are just for your exploration"
   ],
   "cell_type": "markdown",
   "metadata": {}
  },
  {
   "source": [
    "## 0. Set up Google Colab environment\n",
    "! git clone \"https://github.com/longyuxi/naive-sentiment-analyzer\"\n",
    "! mv naive-sentiment-analyzer/* ./\n",
    "! rm -rf sample_data/\n",
    "! rm -rf naive-sentiment-analyzer/\n",
    "! pip install afinn\n",
    "import nltk\n",
    "nltk.download('punkt')\n",
    "nltk.download('wordnet')"
   ],
   "cell_type": "markdown",
   "metadata": {}
  },
  {
   "source": [
    "#### 1. Run the following block of code every time you want to switch the files you are concerned with"
   ],
   "cell_type": "markdown",
   "metadata": {}
  },
  {
   "cell_type": "code",
   "execution_count": null,
   "metadata": {},
   "outputs": [],
   "source": [
    "INPUT_TEXT = 'data/conversion/origen-conversion.txt'\n",
    "OUTPUT_CSV = 'data/conversion/origen-conversion.csv'"
   ]
  },
  {
   "source": [
    "#### 2. Generates a csv file containing the sentiment information extracted from the text. This block does not need to be run if the csv file is already present (i.e. the information has been generated before)."
   ],
   "cell_type": "markdown",
   "metadata": {}
  },
  {
   "source": [
    "import demensuris_analyze\n",
    "demensuris_analyze.enhanced_analyze_text(INPUT_TEXT, OUTPUT_CSV)"
   ],
   "cell_type": "code",
   "metadata": {
    "tags": []
   },
   "execution_count": null,
   "outputs": []
  },
  {
   "source": [
    "Print out the nth sentence in the text"
   ],
   "cell_type": "markdown",
   "metadata": {}
  },
  {
   "cell_type": "code",
   "execution_count": null,
   "metadata": {},
   "outputs": [],
   "source": [
    "SENTENCE_NUMBER = 1\n",
    "\n",
    "import demensuris_analyze\n",
    "demensuris_analyze.print_sentence_by_number(INPUT_TEXT, SENTENCE_NUMBER)"
   ]
  },
  {
   "cell_type": "code",
   "execution_count": null,
   "metadata": {},
   "outputs": [],
   "source": [
    "WORD_OR_PATTERN = \"said\"\n",
    "\n",
    "import demensuris_analyze\n",
    "demensuris_analyze.find_pattern(INPUT_TEXT, WORD_OR_PATTERN)"
   ]
  },
  {
   "source": [
    "## WordNet enhanced AFINN"
   ],
   "cell_type": "markdown",
   "metadata": {}
  },
  {
   "source": [
    "#### Just for your curiosity, if you want to see what the WordNet enhanced AFINN score of a certain word is\n",
    "Uncomment these code by deleting the hashtags before them"
   ],
   "cell_type": "markdown",
   "metadata": {}
  },
  {
   "cell_type": "code",
   "execution_count": null,
   "metadata": {},
   "outputs": [],
   "source": [
    "import demensuris_analyze\n",
    "demensuris_analyze.enhanced_afinn('sin')"
   ]
  },
  {
   "cell_type": "code",
   "execution_count": null,
   "metadata": {},
   "outputs": [],
   "source": [
    "import demensuris_analyze\n",
    "demensuris_analyze.print_synonyms_and_antonyms('sin')"
   ]
  },
  {
   "source": [
    "## Plots the sentiment score as a function of sentence count based on the data in OUTPUT_CSV"
   ],
   "cell_type": "markdown",
   "metadata": {}
  },
  {
   "source": [
    "Note: The black dotted line is zero"
   ],
   "cell_type": "markdown",
   "metadata": {}
  },
  {
   "source": [
    "#### 3. Plot against sentence count"
   ],
   "cell_type": "markdown",
   "metadata": {}
  },
  {
   "cell_type": "code",
   "execution_count": null,
   "metadata": {},
   "outputs": [],
   "source": [
    "# Plot against sentence count\n",
    "import matplotlib.pyplot as plt\n",
    "import csv\n",
    "import numpy as np\n",
    "plt.style.use('seaborn-whitegrid')\n",
    "\n",
    "with open(OUTPUT_CSV) as csvfile:\n",
    "    csvreader = csv.reader(csvfile)\n",
    "    csvdatahorizontal = list(csvreader)\n",
    "    csvdatahorizontal = csvdatahorizontal[1:]\n",
    "    numpy_array = np.array(csvdatahorizontal)\n",
    "    csvdatavertical = numpy_array.T\n",
    "    csvdatavertical = csvdatavertical.astype(float)\n",
    "    fig = plt.figure()\n",
    "    ax = plt.axes()\n",
    "    ax.plot(csvdatavertical[0],csvdatavertical[3])\n",
    "    ax.plot(np.zeros(len(csvdatavertical[4])), 'k:')\n",
    "    ax.set_title(OUTPUT_CSV[:-4])\n",
    "    ax.set_xlabel(\"Sentence count\")\n",
    "    ax.set_ylabel(\"Total AFINN Score\")"
   ]
  },
  {
   "source": [
    "#### 4. Plot against word count"
   ],
   "cell_type": "markdown",
   "metadata": {}
  },
  {
   "cell_type": "code",
   "execution_count": null,
   "metadata": {},
   "outputs": [],
   "source": [
    "# Plot against word count\n",
    "import matplotlib.pyplot as plt\n",
    "import csv\n",
    "import numpy as np\n",
    "plt.style.use('seaborn-whitegrid')\n",
    "\n",
    "with open(OUTPUT_CSV) as csvfile:\n",
    "    csvreader = csv.reader(csvfile)\n",
    "    csvdatahorizontal = list(csvreader)\n",
    "    csvdatahorizontal = csvdatahorizontal[1:]\n",
    "    numpy_array = np.array(csvdatahorizontal)\n",
    "    csvdatavertical = numpy_array.T\n",
    "    csvdatavertical = csvdatavertical.astype(float)\n",
    "    fig = plt.figure()\n",
    "    ax = plt.axes()\n",
    "    ax.plot(csvdatavertical[4],csvdatavertical[3])\n",
    "    ax.plot(np.zeros(int(csvdatavertical[4][-1])), 'k:')\n",
    "    ax.set_title(OUTPUT_CSV[:-4]) \n",
    "    ax.set_xlabel(\"Word count\")\n",
    "    ax.set_ylabel(\"Total AFINN Score\")\n"
   ]
  }
 ]
}